{
 "cells": [
  {
   "cell_type": "markdown",
   "id": "74585d98",
   "metadata": {},
   "source": [
    "Apredendo Python"
   ]
  },
  {
   "cell_type": "code",
   "execution_count": 1,
   "id": "eb0cb9d1",
   "metadata": {},
   "outputs": [
    {
     "name": "stdout",
     "output_type": "stream",
     "text": [
      "Hello World\n"
     ]
    }
   ],
   "source": [
    "print(\"Hello World\")"
   ]
  },
  {
   "cell_type": "code",
   "execution_count": 2,
   "id": "ebfd2583",
   "metadata": {},
   "outputs": [
    {
     "data": {
      "text/plain": [
       "12"
      ]
     },
     "execution_count": 2,
     "metadata": {},
     "output_type": "execute_result"
    }
   ],
   "source": [
    "5 + 7"
   ]
  },
  {
   "cell_type": "markdown",
   "id": "9fd79a17",
   "metadata": {},
   "source": [
    "Lista bibliotecas instaladas - pip list\n",
    "Mostra detalhes de uma biblioteca pip show <biblioteca>\n",
    "Instala biblioteca - pip install\n",
    "criar ambiente virtual desenvolvimento: python -m venv .NOME_ambiente\n",
    "Entrar no ambie3nte: .\\.nomeambiente\\Scripts\\activate\n",
    "mostra versão das bibliotecas do projeto: pip freeze\n",
    "cria o arquivo requirements: pip freeze > requirements.txt"
   ]
  }
 ],
 "metadata": {
  "kernelspec": {
   "display_name": "Python 3",
   "language": "python",
   "name": "python3"
  },
  "language_info": {
   "codemirror_mode": {
    "name": "ipython",
    "version": 3
   },
   "file_extension": ".py",
   "mimetype": "text/x-python",
   "name": "python",
   "nbconvert_exporter": "python",
   "pygments_lexer": "ipython3",
   "version": "3.11.3"
  }
 },
 "nbformat": 4,
 "nbformat_minor": 5
}
